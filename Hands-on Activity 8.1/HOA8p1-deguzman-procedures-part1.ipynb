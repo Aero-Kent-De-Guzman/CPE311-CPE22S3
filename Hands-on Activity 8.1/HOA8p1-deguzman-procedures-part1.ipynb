{
 "cells": [
  {
   "cell_type": "code",
   "execution_count": 1,
   "id": "f66c4ef0-cd27-4791-b462-f73e60b746d5",
   "metadata": {},
   "outputs": [],
   "source": [
    "# 8.1.3 Procedures\n",
    "# The procedures can be found in the canvas module. Check the following under topics:\n",
    "# 8.1 Weather Data Collection"
   ]
  },
  {
   "cell_type": "markdown",
   "id": "66c0a3e2-4fc7-47fa-88e7-ab46ae50bb85",
   "metadata": {},
   "source": [
    "## 8.1 Weather Data Collection"
   ]
  },
  {
   "cell_type": "markdown",
   "id": "c13f0759-f10d-477c-aabb-406c413c5da7",
   "metadata": {},
   "source": [
    "### Collecting weather data from an API"
   ]
  },
  {
   "cell_type": "code",
   "execution_count": 27,
   "id": "faddb992-9d20-4e2d-8023-ab4c6c124ec3",
   "metadata": {},
   "outputs": [],
   "source": [
    "import requests\n",
    "def make_request(endpoint, payload=None):\n",
    "    \"\"\"\n",
    "    Make a request to a specific endpoint on the weather API\n",
    "    passing headers and optional payload.\n",
    "    \n",
    "    Parameters:\n",
    "    - endpoint: The endpoint of the API you want to\n",
    "    make a GET request to.\n",
    "    - payload: A dictionary of data to pass along\n",
    "    with the request.\n",
    "    \n",
    "    Returns:\n",
    "    Response object.\n",
    "    \"\"\"\n",
    "    return requests.get(\n",
    "        f'https://www.ncdc.noaa.gov/cdo-web/api/v2/{endpoint}',\n",
    "        headers={\n",
    "        'token': 'PASTE_YOUR_TOKEN_HERE'\n",
    "        },\n",
    "        params=payload\n",
    "    )"
   ]
  },
  {
   "cell_type": "markdown",
   "id": "77e0dbb8-c5e3-4e90-ae78-6a5f3f83108b",
   "metadata": {},
   "source": [
    "### Collect All Data Points for 2018 In NYC (Various Stations)"
   ]
  },
  {
   "cell_type": "code",
   "execution_count": 35,
   "id": "845ec55d-d652-4cdf-97b9-6471ec87097c",
   "metadata": {},
   "outputs": [
    {
     "data": {
      "text/plain": [
       "'Gathering data for 2018-12-31'"
      ]
     },
     "metadata": {},
     "output_type": "display_data"
    }
   ],
   "source": [
    "import datetime\n",
    "from IPython import display # for updating the cell dynamically\n",
    "current = datetime.date(2018, 1, 1)\n",
    "end = datetime.date(2019, 1, 1)\n",
    "results = []\n",
    "while current < end:\n",
    " # update the cell with status information\n",
    " display.clear_output(wait=True)\n",
    " display.display(f'Gathering data for {str(current)}')\n",
    "\n",
    " response = make_request(\n",
    " 'data',\n",
    " {\n",
    " 'datasetid' : 'GHCND', # Global Historical Climatology Network - Daily (GHCND) dataset\n",
    " 'locationid' : 'CITY:US360019', # NYC\n",
    " 'startdate' : current,\n",
    " 'enddate' : current,\n",
    " 'units' : 'metric',\n",
    " 'limit' : 1000 # max allowed\n",
    " }\n",
    " )\n",
    " if response.ok:\n",
    "     # we extend the list instead of appending to avoid getting a nested list\n",
    "     results.extend(response.json()['results'])\n",
    " # update the current date to avoid an infinite loop\n",
    " current += datetime.timedelta(days=1)"
   ]
  },
  {
   "cell_type": "code",
   "execution_count": 33,
   "id": "03b6f7c4-cad9-45e5-9c7c-b37ccbdcfcf4",
   "metadata": {},
   "outputs": [
    {
     "ename": "NameError",
     "evalue": "name 'results' is not defined",
     "output_type": "error",
     "traceback": [
      "\u001b[1;31m---------------------------------------------------------------------------\u001b[0m",
      "\u001b[1;31mNameError\u001b[0m                                 Traceback (most recent call last)",
      "Cell \u001b[1;32mIn[33], line 2\u001b[0m\n\u001b[0;32m      1\u001b[0m \u001b[38;5;28;01mimport\u001b[39;00m \u001b[38;5;21;01mpandas\u001b[39;00m \u001b[38;5;28;01mas\u001b[39;00m \u001b[38;5;21;01mpd\u001b[39;00m\n\u001b[1;32m----> 2\u001b[0m df \u001b[38;5;241m=\u001b[39m pd\u001b[38;5;241m.\u001b[39mDataFrame(results)\n\u001b[0;32m      3\u001b[0m df\u001b[38;5;241m.\u001b[39mhead()\n",
      "\u001b[1;31mNameError\u001b[0m: name 'results' is not defined"
     ]
    }
   ],
   "source": [
    "import pandas as pd\n",
    "df = pd.DataFrame(results)\n",
    "df.head()"
   ]
  },
  {
   "cell_type": "code",
   "execution_count": 5,
   "id": "a3242a58-1657-492d-b109-725baad0a371",
   "metadata": {},
   "outputs": [
    {
     "ename": "NameError",
     "evalue": "name 'df' is not defined",
     "output_type": "error",
     "traceback": [
      "\u001b[1;31m---------------------------------------------------------------------------\u001b[0m",
      "\u001b[1;31mNameError\u001b[0m                                 Traceback (most recent call last)",
      "Cell \u001b[1;32mIn[5], line 1\u001b[0m\n\u001b[1;32m----> 1\u001b[0m df\u001b[38;5;241m.\u001b[39mto_csv(\u001b[38;5;124m'\u001b[39m\u001b[38;5;124mdatasets/nyc_weather_2018.csv\u001b[39m\u001b[38;5;124m'\u001b[39m, index\u001b[38;5;241m=\u001b[39m\u001b[38;5;28;01mFalse\u001b[39;00m)\n",
      "\u001b[1;31mNameError\u001b[0m: name 'df' is not defined"
     ]
    }
   ],
   "source": [
    "import pandas as pd\n",
    "df.to_csv('datasets/nyc_weather_2018.csv', index=False)"
   ]
  },
  {
   "cell_type": "code",
   "execution_count": 23,
   "id": "b5ba2730-f0e2-481e-a60e-6eb8b319b018",
   "metadata": {},
   "outputs": [],
   "source": [
    "import sqlite3\n",
    "import pandas as pd\n",
    "\n",
    "df = pd.read_csv('datasets/nyc_weather_2018.csv') # the data was taking too long that I do not know if there is something wrong, I added it manually instead...\n",
    "\n",
    "with sqlite3.connect('databases/weather.db') as connection:\n",
    "    df.to_sql(\n",
    "        'weather', connection, index=False, if_exists='replace'\n",
    "    )"
   ]
  },
  {
   "cell_type": "code",
   "execution_count": 29,
   "id": "87538c3e-a9f0-4b2c-8ef1-8adc98d93e71",
   "metadata": {},
   "outputs": [
    {
     "ename": "KeyError",
     "evalue": "'results'",
     "output_type": "error",
     "traceback": [
      "\u001b[1;31m---------------------------------------------------------------------------\u001b[0m",
      "\u001b[1;31mKeyError\u001b[0m                                  Traceback (most recent call last)",
      "Cell \u001b[1;32mIn[29], line 9\u001b[0m\n\u001b[0;32m      1\u001b[0m response \u001b[38;5;241m=\u001b[39m make_request(\n\u001b[0;32m      2\u001b[0m     \u001b[38;5;124m'\u001b[39m\u001b[38;5;124mstations\u001b[39m\u001b[38;5;124m'\u001b[39m,\n\u001b[0;32m      3\u001b[0m     {\n\u001b[1;32m   (...)\u001b[0m\n\u001b[0;32m      7\u001b[0m     }\n\u001b[0;32m      8\u001b[0m )\n\u001b[1;32m----> 9\u001b[0m stations \u001b[38;5;241m=\u001b[39m pd\u001b[38;5;241m.\u001b[39mDataFrame(response\u001b[38;5;241m.\u001b[39mjson()[\u001b[38;5;124m'\u001b[39m\u001b[38;5;124mresults\u001b[39m\u001b[38;5;124m'\u001b[39m])[[\u001b[38;5;124m'\u001b[39m\u001b[38;5;124mid\u001b[39m\u001b[38;5;124m'\u001b[39m, \u001b[38;5;124m'\u001b[39m\u001b[38;5;124mname\u001b[39m\u001b[38;5;124m'\u001b[39m, \u001b[38;5;124m'\u001b[39m\u001b[38;5;124mlatitude\u001b[39m\u001b[38;5;124m'\u001b[39m, \u001b[38;5;124m'\u001b[39m\u001b[38;5;124mlongitude\u001b[39m\u001b[38;5;124m'\u001b[39m, \u001b[38;5;124m'\u001b[39m\u001b[38;5;124melevation\u001b[39m\u001b[38;5;124m'\u001b[39m]]\n\u001b[0;32m     10\u001b[0m stations\u001b[38;5;241m.\u001b[39mto_csv(\u001b[38;5;124m'\u001b[39m\u001b[38;5;124mdata/weather_stations.csv\u001b[39m\u001b[38;5;124m'\u001b[39m, index\u001b[38;5;241m=\u001b[39m\u001b[38;5;28;01mFalse\u001b[39;00m)\n\u001b[0;32m     12\u001b[0m \u001b[38;5;28;01mwith\u001b[39;00m sqlite3\u001b[38;5;241m.\u001b[39mconnect(\u001b[38;5;124m'\u001b[39m\u001b[38;5;124mdata/weather.db\u001b[39m\u001b[38;5;124m'\u001b[39m) \u001b[38;5;28;01mas\u001b[39;00m connection:\n",
      "\u001b[1;31mKeyError\u001b[0m: 'results'"
     ]
    }
   ],
   "source": [
    "response = make_request(\n",
    "    'stations',\n",
    "    {\n",
    "        'datasetid' : 'GHCND', # Global Historical Climatology Network - Daily (GHCND) dataset\n",
    "        'locationid' : 'CITY:US360019', # NYC\n",
    "        'limit' : 1000 # max allowed\n",
    "    }\n",
    ")\n",
    "stations = pd.DataFrame(response.json()['results'])[['id', 'name', 'latitude', 'longitude', 'elevation']]\n",
    "stations.to_csv('data/weather_stations.csv', index=False)\n",
    "\n",
    "with sqlite3.connect('data/weather.db') as connection:\n",
    "     stations.to_sql(\n",
    "         'stations', connection, index=False, if_exists='replace'\n",
    "         )"
   ]
  }
 ],
 "metadata": {
  "kernelspec": {
   "display_name": "Python 3 (ipykernel)",
   "language": "python",
   "name": "python3"
  },
  "language_info": {
   "codemirror_mode": {
    "name": "ipython",
    "version": 3
   },
   "file_extension": ".py",
   "mimetype": "text/x-python",
   "name": "python",
   "nbconvert_exporter": "python",
   "pygments_lexer": "ipython3",
   "version": "3.12.4"
  }
 },
 "nbformat": 4,
 "nbformat_minor": 5
}
