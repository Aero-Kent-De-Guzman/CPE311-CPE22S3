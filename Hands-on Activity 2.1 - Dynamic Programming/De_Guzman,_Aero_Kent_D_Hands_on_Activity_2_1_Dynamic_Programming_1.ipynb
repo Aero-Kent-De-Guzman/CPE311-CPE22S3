{
  "cells": [
    {
      "cell_type": "markdown",
      "metadata": {
        "id": "view-in-github",
        "colab_type": "text"
      },
      "source": [
        "<a href=\"https://colab.research.google.com/github/Aero-Kent-De-Guzman/CPE311-CPE22S3/blob/main/Hands-on%20Activity%202.1%20-%20Dynamic%20Programming/De_Guzman%2C_Aero_Kent_D_Hands_on_Activity_2_1_Dynamic_Programming_1.ipynb\" target=\"_parent\"><img src=\"https://colab.research.google.com/assets/colab-badge.svg\" alt=\"Open In Colab\"/></a>"
      ]
    },
    {
      "cell_type": "markdown",
      "id": "f1c6ec95",
      "metadata": {
        "id": "f1c6ec95"
      },
      "source": [
        "# Hands-on Activity 2.1 : Dynamic Programming"
      ]
    },
    {
      "cell_type": "markdown",
      "id": "56dacba1",
      "metadata": {
        "id": "56dacba1"
      },
      "source": [
        "#### Objective(s):\n",
        "\n",
        "This activity aims to demonstrate how to use dynamic programming to solve problems."
      ]
    },
    {
      "cell_type": "markdown",
      "id": "e51f84e3",
      "metadata": {
        "id": "e51f84e3"
      },
      "source": [
        "#### Intended Learning Outcomes (ILOs):\n",
        "* Differentiate recursion method from dynamic programming to solve problems.\n",
        "* Demonstrate how to  solve real-world problems using dynamic programming\n"
      ]
    },
    {
      "cell_type": "markdown",
      "id": "39047b1a",
      "metadata": {
        "id": "39047b1a"
      },
      "source": [
        "#### Resources:\n",
        "* Jupyter Notebook\n"
      ]
    },
    {
      "cell_type": "markdown",
      "id": "cb5360c0",
      "metadata": {
        "id": "cb5360c0"
      },
      "source": [
        "#### Procedures:"
      ]
    },
    {
      "cell_type": "markdown",
      "id": "206a914c",
      "metadata": {
        "id": "206a914c"
      },
      "source": [
        "1. Create a code that demonstrate how to use recursion method to solve problem"
      ]
    },
    {
      "cell_type": "markdown",
      "id": "5744a876",
      "metadata": {
        "id": "5744a876"
      },
      "source": [
        "2. Create a program codes that demonstrate how to use dynamic programming to solve the same problem"
      ]
    },
    {
      "cell_type": "markdown",
      "id": "8e3f6572",
      "metadata": {
        "id": "8e3f6572"
      },
      "source": [
        "##### Question:\n",
        "Explain the difference of using the recursion from dynamic programming using the given sample codes to solve the same problem"
      ]
    },
    {
      "cell_type": "markdown",
      "id": "b5a71b53",
      "metadata": {
        "id": "b5a71b53"
      },
      "source": [
        "Type your answer here:\n",
        "\n",
        "\n",
        "\n"
      ]
    },
    {
      "cell_type": "markdown",
      "id": "60074702",
      "metadata": {
        "id": "60074702"
      },
      "source": [
        "3. Create a sample program codes to simulate bottom-up dynamic programming"
      ]
    },
    {
      "cell_type": "markdown",
      "id": "e629eb89",
      "metadata": {
        "id": "e629eb89"
      },
      "source": [
        "4. Create a sample program codes that simulate tops-down dynamic programming"
      ]
    },
    {
      "cell_type": "markdown",
      "id": "c2e2434c",
      "metadata": {
        "id": "c2e2434c"
      },
      "source": [
        "#### Question:\n",
        " Explain the difference between bottom-up from top-down dynamic programming using the given sample codes"
      ]
    },
    {
      "cell_type": "markdown",
      "id": "ac97e063",
      "metadata": {
        "id": "ac97e063"
      },
      "source": [
        "Type your answer here:\n",
        "\n",
        "**.**\n",
        "\n",
        "**Bottom-up and Top-down are two different approaches in dynamic programming although they can still achieve the same conclusion when given the correct adjustments. In the given following examples below, the Bottom-up approach was used in the #2 Dynamic Programming while Top-down approach is used in #3 Memoization.**\n",
        "\n",
        "**.**\n",
        "\n",
        "**In the #2 with the Bottom-Up approach, it can be seen that a placeholder was first created inside the function in which the values will keep appending inside the table, due to the if-else function, they also are the ones to determine both in the maximum value that will be returned later as well as whether to both include or exlude the new and the previous numbers using the max() function.**\n",
        "\n",
        "**.**\n",
        "\n",
        "**On the otherhand, the Top-down approach are similar on how the #2 functioned but it the placeholder now is placed outside instead of within the function as well as an additional conditional statements which reduced the times the table must be iterated with the same values since when looking on the their output in a tabular format it can be seen that the program in #2 keeps iterating the same end output multiple times to both weigh as well as return while #3 only keeps the total length of the both weight and values end output to both weigh and return later.**\n",
        "\n",
        "**.**\n",
        "\n",
        "**To make it briefly, their function and output and made where the Top-down approach first creates/inserts the first initial values inside the placeholder with a total of the len of the values, after which it will keep replacing those values with the next in the index except the first actual value where it will add the previous one. This will keep on repeating until it returns the total maximum in combination with the max() function. the Bottom-up on the otherhand also adds all the initial values first but instead of basing on the total len of the value, it will instead keeps adding almost full. After adding the inital value, it will also replace the coming values with the next one with the exception these time of the 'last' where it is intead the other where the sum of the previous and current is placed as well as where the weighing of whether this is in fact the maximum or not.**\n"
      ]
    },
    {
      "cell_type": "markdown",
      "id": "f7a5bfbd",
      "metadata": {
        "id": "f7a5bfbd"
      },
      "source": [
        "0/1 Knapsack Problem\n",
        "\n",
        "* Analyze three different techniques to solve knapsacks problem\n",
        "1. Recursion\n",
        "2. Dynamic Programming\n",
        "3. Memoization"
      ]
    },
    {
      "cell_type": "code",
      "source": [
        "#sample code for knapsack problem using recursion\n",
        "def rec_knapSack(w, wt, val, n):\n",
        "\n",
        "  #base case\n",
        "  #defined as nth item is empty;\n",
        "  #or the capacity w is 0\n",
        "  if n == 0 or w == 0:\n",
        "    return 0\n",
        "\n",
        "  #if weight of the nth item is more than\n",
        "  #the capacity W, then this item cannot be included\n",
        "  #as part of the optimal solution\n",
        "  if(wt[n-1] > w):\n",
        "    return rec_knapSack(w, wt, val, n-1)\n",
        "\n",
        "  #return the maximum of the two cases:\n",
        "  # (1) include the nth item\n",
        "  # (2) don't include the nth item\n",
        "  else:\n",
        "    return max(\n",
        "        val[n-1] + rec_knapSack(\n",
        "            w-wt[n-1], wt, val, n-1),\n",
        "            rec_knapSack(w, wt, val, n-1)\n",
        "    )"
      ],
      "metadata": {
        "id": "15SVHF85_1Ji"
      },
      "id": "15SVHF85_1Ji",
      "execution_count": null,
      "outputs": []
    },
    {
      "cell_type": "code",
      "source": [
        "#To test:\n",
        "val = [60, 100, 120] #values for the items\n",
        "wt = [10, 20, 30] #weight of the items\n",
        "w = 50 #knapsack weight capacity\n",
        "n = len(val) #number of items\n",
        "\n",
        "rec_knapSack(w, wt, val, n)"
      ],
      "metadata": {
        "colab": {
          "base_uri": "https://localhost:8080/"
        },
        "id": "b1D3YRJ7cMqU",
        "outputId": "788d87c8-0d84-4dd6-dfcf-1206fa495812"
      },
      "id": "b1D3YRJ7cMqU",
      "execution_count": null,
      "outputs": [
        {
          "output_type": "execute_result",
          "data": {
            "text/plain": [
              "220"
            ]
          },
          "metadata": {},
          "execution_count": 27
        }
      ]
    },
    {
      "cell_type": "code",
      "source": [
        "#Dynamic Programming for the Knapsack Problem\n",
        "def DP_knapSack(w, wt, val, n):\n",
        "  #create the table\n",
        "  table = [[0 for x in range(w+1)] for x in range (n+1)]\n",
        "\n",
        "  #populate the table in a bottom-up approach\n",
        "  for i in range(n+1):\n",
        "    for w in range(w+1):\n",
        "      if i == 0 or w == 0:\n",
        "        table[i][w] = 0\n",
        "      elif wt[i-1] <= w:\n",
        "        table[i][w] = max(val[i-1] + table[i-1][w-wt[i-1]],\n",
        "                          table[i-1][w])\n",
        "  return table[n][w]"
      ],
      "metadata": {
        "id": "A8OU1sUJ_1ES"
      },
      "id": "A8OU1sUJ_1ES",
      "execution_count": null,
      "outputs": []
    },
    {
      "cell_type": "code",
      "source": [
        "#To test:\n",
        "val = [60, 100, 120]\n",
        "wt = [10, 20, 30]\n",
        "w = 50\n",
        "n = len(val)\n",
        "\n",
        "DP_knapSack(w, wt, val, n)"
      ],
      "metadata": {
        "colab": {
          "base_uri": "https://localhost:8080/"
        },
        "id": "GUNeEPHrd-N1",
        "outputId": "4829e602-248b-48f8-cbd3-e75c4d87d3b6"
      },
      "id": "GUNeEPHrd-N1",
      "execution_count": null,
      "outputs": [
        {
          "output_type": "execute_result",
          "data": {
            "text/plain": [
              "220"
            ]
          },
          "metadata": {},
          "execution_count": 29
        }
      ]
    },
    {
      "cell_type": "code",
      "source": [
        "#Sample for top-down DP approach (memoization)\n",
        "#initialize the list of items\n",
        "val = [60, 100, 120]\n",
        "wt = [10, 20, 30]\n",
        "w = 50\n",
        "n = len(val)\n",
        "\n",
        "#initialize the container for the values that have to be stored\n",
        "#values are initialized to -1\n",
        "calc =[[-1 for i in range(w+1)] for j in range(n+1)]\n",
        "\n",
        "\n",
        "def mem_knapSack(wt, val, w, n):\n",
        "  #base conditions\n",
        "  if n == 0 or w == 0:\n",
        "    return 0\n",
        "  if calc[n][w] != -1:\n",
        "    return calc[n][w]\n",
        "\n",
        "  #compute for the other cases\n",
        "  if wt[n-1] <= w:\n",
        "    calc[n][w] = max(val[n-1] + mem_knapSack(wt, val, w-wt[n-1], n-1),\n",
        "                     mem_knapSack(wt, val, w, n-1))\n",
        "    return calc[n][w]\n",
        "  elif wt[n-1] > w:\n",
        "    calc[n][w] = mem_knapSack(wt, val, w, n-1)\n",
        "    return calc[n][w]\n",
        "\n",
        "mem_knapSack(wt, val, w, n)"
      ],
      "metadata": {
        "id": "VgwTX-XT_0_h",
        "colab": {
          "base_uri": "https://localhost:8080/"
        },
        "outputId": "6f3c2cc6-01fc-433a-ae1e-cbb99976c028"
      },
      "id": "VgwTX-XT_0_h",
      "execution_count": null,
      "outputs": [
        {
          "output_type": "execute_result",
          "data": {
            "text/plain": [
              "220"
            ]
          },
          "metadata": {},
          "execution_count": 31
        }
      ]
    },
    {
      "cell_type": "markdown",
      "source": [
        "**Code Analysis**\n",
        "\n",
        "**The recursion program simply traverses the given input based on the length of the values, this length is identified as n where based on it, it will be used to identify what index will the value will be used. This can be seen in both the compuation of the total weight where the values are called out by calling the name of that list and the n. Because it is also returning an n-1, the recursion will keep repeating using the lesser in the indices.**\n",
        "\n",
        "**.**\n",
        "\n",
        "**The 2nd program which is the dynamic programming on the other hand differs from the recursion program since since it instead uses a tabular format in both weighing as well as the computation for the total.**\n",
        "\n",
        "**The memoization program now is similar to the 2nd program where it also utilizes a tabular format but instead of the creating it within the function, the table is instead located outside of the function. It also differs in the input size of the table because of the approach in creating the program it only creates the table as little as the total of the len of the given values. Both Dynamic Programming and Memoization is the nearly has the same code structure since they both uses a table in their computaion with the memoization differing since it has additional conditional that makes reduces the total input needed in the table for computation.**"
      ],
      "metadata": {
        "id": "-UXSSblDcF8T"
      },
      "id": "-UXSSblDcF8T"
    },
    {
      "cell_type": "markdown",
      "source": [
        "## Seatwork 2.1"
      ],
      "metadata": {
        "id": "IGsdUGCUcTFd"
      },
      "id": "IGsdUGCUcTFd"
    },
    {
      "cell_type": "markdown",
      "id": "0462053d",
      "metadata": {
        "id": "0462053d"
      },
      "source": [
        "Task 1: Modify the three techniques to include additional criterion in the knapsack problems"
      ]
    },
    {
      "cell_type": "code",
      "execution_count": 63,
      "id": "ed2f6186",
      "metadata": {
        "id": "ed2f6186",
        "colab": {
          "base_uri": "https://localhost:8080/"
        },
        "outputId": "bb062913-ba50-4ec9-bae7-0333c160160b"
      },
      "outputs": [
        {
          "output_type": "stream",
          "name": "stdout",
          "text": [
            "RECURSION\n",
            "the weight -16 is realistically impossible, excluding it from the computation...\n",
            "the weight -21 is realistically impossible, excluding it from the computation...\n",
            "total is : 220\n",
            "\n",
            "DYNAMIC PROGRAMMING\n",
            "Removing weight -21 with the value 10 since the weight is realistically impossible...\n",
            "Removing weight -16 with the value 10 since the weight is realistically impossible...\n",
            "total is : 220\n",
            "\n",
            "MEMOIZATION\n",
            "Removing weight -21 with the value 10 since the weight is realistically impossible...\n",
            "Removing weight -16 with the value 10 since the weight is realistically impossible...\n",
            "total is : 220\n"
          ]
        }
      ],
      "source": [
        "#type your code here\n",
        "\n",
        "#Recursion\n",
        "#modified code for knapsack problem using recursion\n",
        "print('RECURSION')\n",
        "def rec_knapSack(w, wt, val, n):\n",
        "\n",
        "    if n == 0 or w == 0:\n",
        "        return 0\n",
        "\n",
        "    if(wt[n-1] < 0): # this is the additional criterion..., having a negative\n",
        "                     # weight is realistically impossible so this they will\n",
        "                     # be removed.\n",
        "        print(f\"the weight {wt[n-1]} is realistically impossible, excluding it from the computation...\")\n",
        "        return rec_knapSack(w, wt, val, n-1)\n",
        "\n",
        "    if(wt[n-1] > w):\n",
        "        return rec_knapSack(w, wt, val, n-1)\n",
        "\n",
        "    else:\n",
        "        return max(\n",
        "            val[n-1] + rec_knapSack(\n",
        "                w-wt[n-1], wt, val, n-1),\n",
        "                rec_knapSack(w, wt, val, n-1)\n",
        "                )\n",
        "\n",
        "# simply added more on values and weight to see the additional criterion in action.\n",
        "val = [60, 100, 120, 10, 10]\n",
        "wt = [10, 20, 30, -21, -16]\n",
        "w = 50\n",
        "n = len(val)\n",
        "print(f\"total is : {rec_knapSack(w, wt, val, n)}\")\n",
        "\n",
        "# Dynamic\n",
        "# modified code for Dynamic Programming\n",
        "print('\\nDYNAMIC PROGRAMMING')\n",
        "def DP_knapSack(w, wt, val, n):\n",
        "\n",
        "    x = 0\n",
        "    while x < len(wt): # Added an additional criterion that removes negative weight\n",
        "                       # since it is realistically impossible...\n",
        "        if wt[x] < 0:\n",
        "            print(f\"Removing weight {wt[x]} with the value {val[x]} since the weight is realistically impossible...\")\n",
        "            wt.remove(wt[x])\n",
        "            val.remove(val[x])\n",
        "            n = len(val)\n",
        "        else: x += 1\n",
        "\n",
        "    table = [[0 for x in range(w+1)] for x in range (n+1)]\n",
        "\n",
        "    for i in range(n+1):\n",
        "        for w in range(w+1):\n",
        "            if i == 0 or w == 0:\n",
        "                table[i][w] = 0\n",
        "            elif wt[i-1] <= w:\n",
        "                table[i][w] = max(val[i-1] + table[i-1][w-wt[i-1]], table[i-1][w])\n",
        "    return f\"total is : {table[n][w]}\"\n",
        "\n",
        "# simply added more on values and weight to see the additional criterion in action.\n",
        "val = [60, 100, 120, 10, 10]\n",
        "wt = [10, 20, 30, -21, -16]\n",
        "w = 50\n",
        "n = len(val)\n",
        "\n",
        "print(DP_knapSack(w, wt, val, n))\n",
        "\n",
        "# Memoization\n",
        "# simply added more on values and weight to see the additional criterion in action.\n",
        "print('\\nMEMOIZATION')\n",
        "val = [60, 100, 120, 10, 10]\n",
        "wt = [10, 20, 30, -21, -16]\n",
        "w = 50\n",
        "n = len(val)\n",
        "\n",
        "calc =[[-1 for i in range(w+1)] for j in range(n+1)]\n",
        "\n",
        "def mem_knapSack(wt, val, w, n):\n",
        "\n",
        "    x = 0\n",
        "    while x < len(wt): # Added an additional criterion that removes negative weight\n",
        "                       # since it is realistically impossible...\n",
        "        if wt[x] < 0:\n",
        "            print(f\"Removing weight {wt[x]} with the value {val[x]} since the weight is realistically impossible...\")\n",
        "            wt.remove(wt[x])\n",
        "            val.remove(val[x])\n",
        "            n = len(val)\n",
        "        else: x += 1\n",
        "\n",
        "    if n == 0 or w == 0:\n",
        "        return 0\n",
        "    if calc[n][w] != -1:\n",
        "        return calc[n][w]\n",
        "\n",
        "    if wt[n-1] <= w:\n",
        "        calc[n][w] = max(val[n-1] + mem_knapSack(wt, val, w-wt[n-1], n-1),\n",
        "                         mem_knapSack(wt, val, w, n-1))\n",
        "        return calc[n][w]\n",
        "    elif wt[n-1] > w:\n",
        "        calc[n][w] = mem_knapSack(wt, val, w, n-1)\n",
        "        return calc[n][w]\n",
        "\n",
        "print(f\"total is : {mem_knapSack(wt, val, w, n)}\")"
      ]
    },
    {
      "cell_type": "markdown",
      "id": "d97e864e",
      "metadata": {
        "id": "d97e864e"
      },
      "source": [
        "Fibonacci Numbers"
      ]
    },
    {
      "cell_type": "markdown",
      "id": "f44e88aa",
      "metadata": {
        "id": "f44e88aa"
      },
      "source": [
        "Task 2: Create a sample program that find the nth number of Fibonacci Series using Dynamic Programming"
      ]
    },
    {
      "cell_type": "code",
      "execution_count": 64,
      "id": "745871be",
      "metadata": {
        "id": "745871be",
        "colab": {
          "base_uri": "https://localhost:8080/"
        },
        "outputId": "39a7f7cc-48b9-4651-b452-d3804509f6bb"
      },
      "outputs": [
        {
          "output_type": "stream",
          "name": "stdout",
          "text": [
            "please enter a number : -1\n",
            "please enter more than 0!\n",
            "please enter a number : 5.5\n",
            "please enter an integer!\n",
            "please enter a number : 10\n",
            "[0, 1, 1, 2, 3, 5, 8, 13, 21, 34]\n",
            "The number that you have received is 34 located at the sequence 10\n"
          ]
        }
      ],
      "source": [
        "#type your code here\n",
        "\n",
        "def Fibonacci(n):\n",
        "    FibonacciTable = [0,1] # Populated initially in order to be used on the\n",
        "                           # computation later.\n",
        "\n",
        "    # simply the base cases\n",
        "    if n == 0:\n",
        "        return 0\n",
        "    if n == 1 or n == 2:\n",
        "        return 1\n",
        "\n",
        "    # The actual computation of the sequences.\n",
        "    # Simply keeps adding the current and previous number in the table using the\n",
        "    # variable x to access that value, utilized an n-2 for a more approaximate\n",
        "    # location in the sequence.\n",
        "    for x in range(int(n)-2):\n",
        "        total = FibonacciTable[x] + FibonacciTable[x+1]\n",
        "        FibonacciTable.append(total)\n",
        "    print(FibonacciTable)\n",
        "    return f\"The number that you have received is {total} located at the sequence {n}\"\n",
        "\n",
        "\n",
        "# Created an input so that the end-user will be forced to insert an integer only.\n",
        "# Reason for this is that the created program simply returns the value with the\n",
        "# input being a signal that what location it is in the index.\n",
        "while True:\n",
        "    try:\n",
        "        x = int(input('please enter a number : '))\n",
        "        if x < 0: print('please enter more than 0!')\n",
        "        else:\n",
        "            print(Fibonacci(x))\n",
        "            break\n",
        "    except ValueError:\n",
        "        print('please enter an integer!')"
      ]
    },
    {
      "cell_type": "markdown",
      "id": "070ddd75",
      "metadata": {
        "id": "070ddd75"
      },
      "source": [
        "## Supplementary Problem (HOA 2.1 Submission):\n",
        "* Choose a real-life problem\n",
        "* Use recursion and dynamic programming to solve the problem"
      ]
    },
    {
      "cell_type": "markdown",
      "source": [
        "**CHOSEN REAL-LIFE PROBLEM**\n",
        "\n",
        "A plane that is about to take has some issues when it comes to their departure. Upon closer inspection, the weight distribution of the plane is unbalanced due to the passengers tricking the weight inspection of the baggages.\n",
        "\n",
        "Because of the strict schedule, the people and staff on board now must make do of the situation and arrange their seats accordingly in order to balance out the plane which in turn makes for a safer travel."
      ],
      "metadata": {
        "id": "U91U_qRxXBQA"
      },
      "id": "U91U_qRxXBQA"
    },
    {
      "cell_type": "code",
      "execution_count": 61,
      "id": "86eef507",
      "metadata": {
        "id": "86eef507",
        "colab": {
          "base_uri": "https://localhost:8080/"
        },
        "outputId": "20a62ee6-64c3-49f0-cef7-9aff89eaf83e"
      },
      "outputs": [
        {
          "output_type": "stream",
          "name": "stdout",
          "text": [
            "\n",
            "Current seating arrangement at the moment : \n",
            "[('random ghost', -27), ('rianne', 50), ('peter', 10), ('john', 40), ('alex', 30), ('john', 20)]\n",
            "\n",
            "passenger random ghost is excluded since their weight does not exist...\n",
            "passenger rianne is switching with passenger peter\n",
            "passenger rianne is switching with passenger john\n",
            "passenger rianne is switching with passenger alex\n",
            "passenger john is switching with passenger alex\n",
            "passenger rianne is switching with passenger john\n",
            "passenger john is switching with passenger john\n",
            "passenger alex is switching with passenger john\n",
            "\n",
            "sorted seat now is : \n",
            "[('peter', 10), ('john', 20), ('alex', 30), ('john', 40), ('rianne', 50)]\n"
          ]
        }
      ],
      "source": [
        "#type your code here for recursion programming solution\n",
        "\n",
        "import random # this is simply used to randomize the placement of the passengers\n",
        "              # in order to simulate the erratic placement of the people.\n",
        "\n",
        "def recursionSeat(people):\n",
        "    if len(people) == 1: # Base Case\n",
        "        return f\"\\nsorted seat now is : \\n{people}\"\n",
        "\n",
        "    # Simply switches the current and next passengers based on the index if they\n",
        "    # former is heavier than the latter.\n",
        "    for i in range(len(people)-1):\n",
        "        if people[i][1] <= 0: # To remove unrealistic weights in the list...\n",
        "            print(f\"passenger {people[i][0]} is excluded since their weight does not exist...\")\n",
        "            people.remove(people[i])\n",
        "        if people[i][1] > people[i+1][1]:\n",
        "            print(f\"passenger {people[i][0]} is switching with passenger {people[i+1][0]}\")\n",
        "            people[i], people[i+1] = people[i+1], people[i]\n",
        "            return recursionSeat(people)\n",
        "    return f\"\\nsorted seat now is : \\n{people}\"\n",
        "\n",
        "# Recursion\n",
        "Passengers = [('peter', 10),('john', 20),('alex', 30),('john', 40),('rianne', 50),('random ghost', -27)]\n",
        "random.shuffle(Passengers) # In order to simulate the randomized seating arrangement...\n",
        "print(f\"\\nCurrent seating arrangement at the moment : \\n{Passengers}\\n\")\n",
        "print(recursionSeat(Passengers))"
      ]
    },
    {
      "cell_type": "code",
      "execution_count": 60,
      "id": "73b071b6",
      "metadata": {
        "id": "73b071b6",
        "colab": {
          "base_uri": "https://localhost:8080/"
        },
        "outputId": "2df63be6-5ab8-470c-b154-4b4a77072c5d"
      },
      "outputs": [
        {
          "output_type": "stream",
          "name": "stdout",
          "text": [
            "\n",
            "Current seating arrangement at the moment : \n",
            "[('random', -5), ('rianne', 50), ('john', 20), ('peter', 10), ('john', 40), ('ghost', 0), ('alex', 30), ('random ghost', -27)]\n",
            "\n",
            "\n",
            "--- passenger random is excluded since their weight does not exist ---\n",
            "\n",
            "available passengers : [('john', 20), ('peter', 10), ('john', 40), ('ghost', 0), ('alex', 30), ('random ghost', -27)]\n",
            "seated passengers : [('rianne', 50)]\n",
            "\n",
            "--- passenger ghost is excluded since their weight does not exist ---\n",
            "\n",
            "available passengers : [('john', 20), ('john', 40), ('alex', 30), ('random ghost', -27)]\n",
            "seated passengers : [('rianne', 50), ('peter', 10)]\n",
            "\n",
            "--- passenger random ghost is excluded since their weight does not exist ---\n",
            "\n",
            "available passengers : [('john', 40), ('alex', 30)]\n",
            "seated passengers : [('rianne', 50), ('peter', 10), ('john', 20)]\n",
            "\n",
            "available passengers : [('john', 40)]\n",
            "seated passengers : [('rianne', 50), ('peter', 10), ('john', 20), ('alex', 30)]\n",
            "\n",
            "\n",
            "sorted passengers : [('rianne', 50), ('peter', 10), ('john', 20), ('alex', 30), ('john', 40)]\n"
          ]
        }
      ],
      "source": [
        "import random # this is simply used to randomize the placement of the passengers\n",
        "              # in order to simulate the erratic placement of the people.\n",
        "\n",
        "def dynamicSeat(people, newArrangement):\n",
        "\n",
        "    if len(people) == 1: # The Base Case\n",
        "        newArrangement.append(people.pop())\n",
        "        return f\"\\n\\nsorted passengers : {newArrangement}\"\n",
        "\n",
        "    # Obtains the first the position and weight of the current iteration\n",
        "    pos = 0\n",
        "    posWeight = people[0][1]\n",
        "    for i in range(len(people))[:]:\n",
        "        # This compares the weight of the initial and the current passengers.\n",
        "        # it will overwrite if it is lesser than it.\n",
        "        if people[i][1] <= 0: # To remove unrealistic weights in the list...\n",
        "            print(f\"\\n--- passenger {people[i][0]} is excluded since their weight does not exist ---\")\n",
        "            people.remove(people[i])\n",
        "            break\n",
        "        if people[i][1] < posWeight:\n",
        "            pos = i\n",
        "            posWeight = people[i][1]\n",
        "\n",
        "    # It will add it to the sorted list as well as removed that passenger so that\n",
        "    # in the next loop, it will not be amongst the individuals that needs to be\n",
        "    # compared.\n",
        "    newArrangement.append(people.pop(pos))\n",
        "    print(f\"\\navailable passengers : {people}\")\n",
        "    print(f\"seated passengers : {newArrangement}\")\n",
        "    return dynamicSeat(people, newArrangement)\n",
        "\n",
        "Passengers = [('peter', 10),('john', 20),('alex', 30),('john', 40),('rianne', 50),('random ghost', -27),('random', -5),('ghost', 0)]\n",
        "random.shuffle(Passengers) # In order to simulate the randomized seating arrangement...\n",
        "VacantSeat = []\n",
        "print(f\"\\nCurrent seating arrangement at the moment : \\n{Passengers}\\n\")\n",
        "print(dynamicSeat(Passengers, VacantSeat))"
      ]
    },
    {
      "cell_type": "markdown",
      "id": "bb0ed6a9",
      "metadata": {
        "id": "bb0ed6a9"
      },
      "source": [
        "#### Conclusion"
      ]
    },
    {
      "cell_type": "code",
      "execution_count": 59,
      "id": "9627d18c",
      "metadata": {
        "id": "9627d18c"
      },
      "outputs": [],
      "source": [
        "# To conclude the current activity, the topic was all about dynamic programming.\n",
        "# Both its idea as well as their implementation. Dynamic Programming was taught\n",
        "# In combination with 3 forms of methods on how to solve a specific problem where\n",
        "# all 3 achieved the same conclusion despite varying structures in their code.\n",
        "#\n",
        "# In the first to third sample program was the recursion, dynamic, and memoization\n",
        "# methods which was used in solving the knapsack problem of understanding which\n",
        "# combinations amongst the given yields the highest whilst carefully making sure\n",
        "# not to go over the limit.\n",
        "#\n",
        "# The idea of dynamic programming can visually seen in all three since the base\n",
        "# idea of dynamic programming is for the programmers to ensure that the function\n",
        "# that they are creating will also adjust based on the parameters/given values.\n",
        "# In the given sample codes, this can be seen since with each iteration of the function\n",
        "# the used value can be seen to be both stored as well as used depending on the situation\n",
        "# rather than looping over the entirety of the a list which will take longer.\n",
        "# Dynamic Programming ensures that the time it will take is lesser compared when\n",
        "# coding a function without it.\n",
        "#\n",
        "# To simply conclude the idea of Dynamic Programming using the sample programs as\n",
        "# well as the created program in the 1st and 2nd task as well as the supplementary,\n",
        "# Dynamic Programming enables the program/code to run both smoother and faster\n",
        "# since the data is also being adjusted during their iteration so that these\n",
        "# adjustments will aid the program in both calculating and analyzing faster rather\n",
        "# than looking over the given in its entirety."
      ]
    }
  ],
  "metadata": {
    "kernelspec": {
      "display_name": "Python 3",
      "language": "python",
      "name": "python3"
    },
    "language_info": {
      "codemirror_mode": {
        "name": "ipython",
        "version": 3
      },
      "file_extension": ".py",
      "mimetype": "text/x-python",
      "name": "python",
      "nbconvert_exporter": "python",
      "pygments_lexer": "ipython3",
      "version": "3.7.10"
    },
    "colab": {
      "provenance": [],
      "include_colab_link": true
    }
  },
  "nbformat": 4,
  "nbformat_minor": 5
}