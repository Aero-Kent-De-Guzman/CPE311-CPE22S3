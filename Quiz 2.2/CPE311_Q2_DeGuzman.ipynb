{
 "cells": [
  {
   "cell_type": "code",
   "execution_count": 20,
   "id": "274f20d3-a374-4f2a-b8a2-ec3eb501f5ea",
   "metadata": {},
   "outputs": [],
   "source": [
    "# You are given n types of coin denominations of values v(1) < v(2) < ... < v(n) (all integers). Assume v(1) = 1,\n",
    "# so you can always make change for any amount of money C. Give an algorithm which makes change for an amount of\n",
    "# money C with as few coins as possible. [on problem set 4"
   ]
  },
  {
   "cell_type": "code",
   "execution_count": 22,
   "id": "4beaf8c0-d825-40d9-afc4-95d9f1095b87",
   "metadata": {},
   "outputs": [
    {
     "data": {
      "text/plain": [
       "'the total change will be [20, 20, 10] from the given amount of 50'"
      ]
     },
     "execution_count": 22,
     "metadata": {},
     "output_type": "execute_result"
    }
   ],
   "source": [
    "# n = int(input(\"How many money do you need?\")) # Uncomment this if you want a user interact...\n",
    "n = 50\n",
    "\n",
    "def coins(n):\n",
    "    coin = [1,5,10,20] # This is the available coins in a format of pesos.\n",
    "    current_change = []\n",
    "    total = 0\n",
    "\n",
    "    while True: # In this loop, it will check if when adding the highest possible coin in the total\n",
    "                # does not exceed the given n value, it will keep adding unless it is not possible\n",
    "                # which will instead add it the next lower coin value then repeats the process.\n",
    "        if (total + coin[3] <= n):\n",
    "            current_change.append(coin[3])\n",
    "            total += coin[3]\n",
    "        elif (total + coin[2] <= n):\n",
    "            current_change.append(coin[2])\n",
    "            total += coin[2]\n",
    "        elif (total + coin[1] <= n):\n",
    "            current_change.append(coin[1])\n",
    "            total += coin[1]\n",
    "        elif (total + coin[0] <= n):\n",
    "            current_change.append(coin[0])\n",
    "            total += coin[0]\n",
    "        else: break # will break if no more combination is possible...\n",
    "\n",
    "    return f\"the total change will be {current_change} from the given amount of {n}\"\n",
    "\n",
    "coins(n)"
   ]
  }
 ],
 "metadata": {
  "kernelspec": {
   "display_name": "Python 3 (ipykernel)",
   "language": "python",
   "name": "python3"
  },
  "language_info": {
   "codemirror_mode": {
    "name": "ipython",
    "version": 3
   },
   "file_extension": ".py",
   "mimetype": "text/x-python",
   "name": "python",
   "nbconvert_exporter": "python",
   "pygments_lexer": "ipython3",
   "version": "3.12.4"
  }
 },
 "nbformat": 4,
 "nbformat_minor": 5
}
