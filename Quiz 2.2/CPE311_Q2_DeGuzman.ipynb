{
 "cells": [
  {
   "cell_type": "code",
   "execution_count": null,
   "id": "2438abc0-1a8e-49b9-aeac-7db9280cd335",
   "metadata": {},
   "outputs": [],
   "source": [
    "# You are given n types of coin denominations of values v(1) < v(2) < ... < v(n) (all integers). Assume v(1) = 1,\n",
    "# so you can always make change for any amount of money C. Give an algorithm which makes change for an amount of\n",
    "# money C with as few coins as possible. [on problem set 4"
   ]
  },
  {
   "cell_type": "code",
   "execution_count": 48,
   "id": "1f2aa65f-4070-4871-a3ff-585034c5ebba",
   "metadata": {},
   "outputs": [
    {
     "name": "stdin",
     "output_type": "stream",
     "text": [
      "Please enter a value you want to be converted into change. \n",
      " = 5.5\n"
     ]
    },
    {
     "name": "stdout",
     "output_type": "stream",
     "text": [
      "Please enter a value that is whole! the cashier does not deal with centavos...\n"
     ]
    },
    {
     "name": "stdin",
     "output_type": "stream",
     "text": [
      "Please enter a value you want to be converted into change. \n",
      " = 37\n"
     ]
    },
    {
     "data": {
      "text/plain": [
       "'the total coin change is [20, 10, 5, 1, 1] for the given input of 37'"
      ]
     },
     "execution_count": 48,
     "metadata": {},
     "output_type": "execute_result"
    }
   ],
   "source": [
    "def coin_change(n, coins):\n",
    "    changes = [20, 10, 5, 1] # total possible coins in pesos format.\n",
    "    for i in range(len(changes)):\n",
    "        if sum(coins) + changes[i] <= n: # will simply loop to see if the current sum of the current changes held is less than the required amount\n",
    "                                         # will keep going up an index/down a value of coin change if the highest exceeds the given value of n.\n",
    "            coins.append(changes[i])\n",
    "            return coin_change(n, coins) # will append the table and will then loop back the entire function.\n",
    "    return f\"the total coin change is {coins} for the given input of {n}\"\n",
    "\n",
    "while True: # this is to simply get an integer value\n",
    "    try:\n",
    "        n = int(input(\"Please enter a value you want to be converted into change. \\n =\"))\n",
    "        break\n",
    "    except ValueError:\n",
    "        print(\"Please enter a value that is whole! the cashier does not deal with centavos...\")\n",
    "\n",
    "hands = [] # This is in order for the program to be a dynamic program...\n",
    "coin_change(n, hands)"
   ]
  }
 ],
 "metadata": {
  "kernelspec": {
   "display_name": "Python 3 (ipykernel)",
   "language": "python",
   "name": "python3"
  },
  "language_info": {
   "codemirror_mode": {
    "name": "ipython",
    "version": 3
   },
   "file_extension": ".py",
   "mimetype": "text/x-python",
   "name": "python",
   "nbconvert_exporter": "python",
   "pygments_lexer": "ipython3",
   "version": "3.12.4"
  }
 },
 "nbformat": 4,
 "nbformat_minor": 5
}
