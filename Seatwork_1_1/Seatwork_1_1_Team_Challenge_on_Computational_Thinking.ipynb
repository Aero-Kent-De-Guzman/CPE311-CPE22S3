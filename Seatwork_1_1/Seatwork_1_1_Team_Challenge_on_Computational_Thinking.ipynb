{
  "nbformat": 4,
  "nbformat_minor": 0,
  "metadata": {
    "colab": {
      "provenance": [],
      "authorship_tag": "ABX9TyPSw9jMJ90sI8b3GLsS6SBY",
      "include_colab_link": true
    },
    "kernelspec": {
      "name": "python3",
      "display_name": "Python 3"
    },
    "language_info": {
      "name": "python"
    }
  },
  "cells": [
    {
      "cell_type": "markdown",
      "metadata": {
        "id": "view-in-github",
        "colab_type": "text"
      },
      "source": [
        "<a href=\"https://colab.research.google.com/github/Aero-Kent-De-Guzman/CPE311-CPE22S3/blob/main/Seatwork_1_1_Team_Challenge_on_Computational_Thinking.ipynb\" target=\"_parent\"><img src=\"https://colab.research.google.com/assets/colab-badge.svg\" alt=\"Open In Colab\"/></a>"
      ]
    },
    {
      "cell_type": "markdown",
      "source": [
        "https://colab.research.google.com/drive/1NsOMgnTh2UtBL0PpqHTbO7iGjaATYlUk?authuser=0\n",
        "\n",
        "Names :\n",
        "De Guzman, Aero Kent\n",
        "Paala, Anton"
      ],
      "metadata": {
        "id": "_lmsZzO247hh"
      }
    },
    {
      "cell_type": "code",
      "execution_count": null,
      "metadata": {
        "id": "f8LPP3Jw4Y3i"
      },
      "outputs": [],
      "source": [
        "class PassengerToShore():\n",
        "    def __init__(self, contents):\n",
        "        self.contents = contents\n",
        "\n",
        "    def BoatCross(self,dikt):\n",
        "        island = dikt\n",
        "        boat = {}\n",
        "        shore = {}\n",
        "        boatKG = 0\n",
        "        temp = 0\n",
        "\n",
        "        #sort it first from lowest to highest\n",
        "        BubbleSort(island)\n",
        "\n",
        "        # Carry first the supplies\n",
        "        for x in island:\n",
        "            if(x == 'item'):\n",
        "                boat.append(x+1) # the driver\n",
        "                boat.append(x)\n",
        "                island.pop(x+1)\n",
        "                island.pop(x)\n",
        "                shore.append(boat)\n",
        "                boat.pop() # dropped off the supplies\n",
        "\n",
        "        BubbleSort(island)\n",
        "\n",
        "        while(not island):\n",
        "            for x in island:\n",
        "\n",
        "                # going back to shore\n",
        "\n",
        "                boat.append(x)\n",
        "                island.pop(x)\n",
        "                boatKG += island(x)\n",
        "                temp += boatKG + island(x+1)\n",
        "                if temp <= 100:\n",
        "                    boatKG += temp\n",
        "                    boat.append(x+1)\n",
        "                    island.pop(x+1)\n",
        "                shore.append(boat)\n",
        "                boat.clear()\n",
        "\n",
        "                # going back to island\n",
        "\n",
        "                boat.append(shore(0))\n",
        "\n",
        "            # argument 1 always lowest will be the driver\n",
        "            # argument 2 if it goes to the origin and it exceeds the capacity, the driver switches with the lowest in origin\n",
        "            # argument 3 keep adding to boat if lower/equal to limit\n",
        "            # argument 4 always drop all off on the shore\n",
        "            # argument 5 bubble sort every three passes\n",
        "            # argument 6 end if island is empty\n",
        "\n",
        "\n",
        "def BubbleSort(self):\n",
        "    x = len(self.contents)\n",
        "    Dict = self.contents\n",
        "    for i in self.contents:\n",
        "        for y in range(0, x - i - 1):\n",
        "            if Dict[y] > Dict[y + 1]:\n",
        "                Dict[y], Dict[y + 1] = Dict[y + 1], Dict[y]\n",
        "\n",
        "# Initializing Variables...\n",
        "\n",
        "Passengers = {\n",
        "    'person1' : 90, # Roman\n",
        "    'person2' : 80, # Verlyn\n",
        "    'item' : 20, # Supplies\n",
        "    'person3' : 60, # Lloyd\n",
        "    'person4' : 40, # Robin\n",
        "    }\n",
        "\n",
        "# Injecting Variables into the class...\n",
        "\n",
        "Boat = PassengerToShore(Passengers)\n",
        "\n",
        "# Running the algorithm to sort the contents...\n",
        "\n",
        "Boat.BoatCross()"
      ]
    }
  ]
}